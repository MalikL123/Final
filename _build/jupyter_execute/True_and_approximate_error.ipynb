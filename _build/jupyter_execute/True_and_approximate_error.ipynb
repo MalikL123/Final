{
 "cells": [
  {
   "cell_type": "code",
   "execution_count": 1,
   "metadata": {
    "id": "efJpLtS5V2GQ"
   },
   "outputs": [],
   "source": [
    "from numpy import cos, sin, abs"
   ]
  },
  {
   "cell_type": "markdown",
   "metadata": {
    "id": "EnTndpiTR2qc"
   },
   "source": [
    "# True Absolute Error\n"
   ]
  },
  {
   "cell_type": "markdown",
   "metadata": {
    "id": "1rhnxoJMspU9"
   },
   "source": [
    "The difference between the true answer and an approximate answer is called the True Absolute Error:\n",
    "\n",
    "$E_t = |True - Approx| $\n",
    "\n",
    "Only really useful when the *true* value is known."
   ]
  },
  {
   "cell_type": "markdown",
   "metadata": {
    "id": "8Vsxg3YE3DBb"
   },
   "source": [
    "#### Example: What is the derivative of $sin(x)$ at $x=0$?\n"
   ]
  },
  {
   "cell_type": "markdown",
   "metadata": {
    "id": "9MRAXK-MaDgb"
   },
   "source": [
    "Recall: $\\frac{d sin (x)}{dx} = lim_{\\Delta x->0} \\frac{sin(x+\\Delta x)-sin(x)}{\\Delta x}$"
   ]
  },
  {
   "cell_type": "markdown",
   "metadata": {
    "id": "W_bTUPdqZ-Zb"
   },
   "source": [
    "True: $\\frac{d sin (x)}{dx} = cos(x)$"
   ]
  },
  {
   "cell_type": "code",
   "execution_count": 2,
   "metadata": {
    "id": "9rxp6AA4Vlxi"
   },
   "outputs": [
    {
     "name": "stdout",
     "output_type": "stream",
     "text": [
      "1.0\n"
     ]
    }
   ],
   "source": [
    "value_true = cos(0)\n",
    "print(value_true) "
   ]
  },
  {
   "cell_type": "markdown",
   "metadata": {
    "id": "UqYf9B99WEpl"
   },
   "source": [
    "Define a function (for later use) approx which takes a parameter, $\\Delta x$:\n",
    "\n",
    "$approx(\\Delta x) = \\frac{sin(x+\\Delta x)-sin(x)}{\\Delta x}$  "
   ]
  },
  {
   "cell_type": "code",
   "execution_count": 3,
   "metadata": {
    "id": "cTnZjb4JVvcH"
   },
   "outputs": [],
   "source": [
    "def approx(delta_x):\n",
    "    return (sin(0+delta_x)-sin(0))/delta_x"
   ]
  },
  {
   "cell_type": "markdown",
   "metadata": {
    "id": "cd0EzJC5aOoq"
   },
   "source": [
    "For  $\\Delta x = .1$,"
   ]
  },
  {
   "cell_type": "code",
   "execution_count": 4,
   "metadata": {
    "id": "c0K2j3rpYwAN"
   },
   "outputs": [
    {
     "name": "stdout",
     "output_type": "stream",
     "text": [
      "0.9983341664682815\n"
     ]
    }
   ],
   "source": [
    "value_approx = approx(delta_x = .1)\n",
    "print(value_approx)"
   ]
  },
  {
   "cell_type": "markdown",
   "metadata": {
    "id": "eY4Odz5lZXVo"
   },
   "source": [
    "The true absolute error is therefore,"
   ]
  },
  {
   "cell_type": "code",
   "execution_count": 5,
   "metadata": {
    "id": "Nbz_5-FAYyee"
   },
   "outputs": [
    {
     "name": "stdout",
     "output_type": "stream",
     "text": [
      "0.0016658335317184525\n"
     ]
    }
   ],
   "source": [
    "E_t = abs(value_true - value_approx)\n",
    "print(E_t)"
   ]
  },
  {
   "cell_type": "markdown",
   "metadata": {
    "id": "tfbf3wcBah62"
   },
   "source": [
    "\n",
    "\n",
    "---\n",
    "\n",
    "\n",
    "#True relative error"
   ]
  },
  {
   "cell_type": "markdown",
   "metadata": {
    "id": "DXIbm24Td5ZC"
   },
   "source": [
    "Often the absolute error is not so useful since it doesn't consider the magnitude of the value.\n",
    "\n",
    "E.g. GPS has an error of about ~1m. Is that important for calculating distance for a long road trip? What about a self-driving the car?\n",
    "\n",
    "Also note that absolute error has units which complicates generalization.\n",
    "\n",
    "The true relative error is defined as,\n",
    "\n",
    "$\\epsilon_t = \\frac{E_t}{True}$\n",
    "\n",
    "or as a percent,\n",
    "\n",
    "$\\frac{E_t}{True} \\times 100 \\%$"
   ]
  },
  {
   "cell_type": "markdown",
   "metadata": {
    "id": "0jqVDwQgd8-q"
   },
   "source": [
    "#### Example: What is the relative error from the previous calculation?"
   ]
  },
  {
   "cell_type": "code",
   "execution_count": 6,
   "metadata": {
    "id": "s8IWAtc7cv5q"
   },
   "outputs": [
    {
     "name": "stdout",
     "output_type": "stream",
     "text": [
      "0.0016658335317184525\n"
     ]
    }
   ],
   "source": [
    "eps_t = E_t/value_true\n",
    "print(eps_t)"
   ]
  },
  {
   "cell_type": "markdown",
   "metadata": {
    "id": "eujIzIHVc9t2"
   },
   "source": [
    "\n",
    "\n",
    "---\n",
    "\n",
    "\n",
    "#Approximate absolute and relative error"
   ]
  },
  {
   "cell_type": "markdown",
   "metadata": {
    "id": "vrMKrL3Gsa96"
   },
   "source": [
    "What if we don't have the true value?\n",
    "\n",
    "Numerical methods typically have a tunable parameter that controls accuracy (viz. $\\Delta x$ above). We can estimate the error for sequential approximations, using the *better* approximation in place of the *True* one.\n",
    "\n",
    "$E_a = |Better\\ approx - approx|$\n",
    "\n",
    "$\\epsilon_a = \\frac{E_a}{Better\\ approx}$"
   ]
  },
  {
   "cell_type": "markdown",
   "metadata": {
    "id": "DYhYz_GpfxHe"
   },
   "source": [
    "#### Example: Use smaller step sizes to find the approximate error and fracitonal error.\n"
   ]
  },
  {
   "cell_type": "code",
   "execution_count": 7,
   "metadata": {
    "id": "3-SoANg6cyY3"
   },
   "outputs": [
    {
     "name": "stdout",
     "output_type": "stream",
     "text": [
      "0.0016491669483849059\n"
     ]
    }
   ],
   "source": [
    "E_a = abs(approx(.01) - approx(.1))\n",
    "print(E_a)"
   ]
  },
  {
   "cell_type": "code",
   "execution_count": 8,
   "metadata": {
    "id": "dKw_EPuWgDkg"
   },
   "outputs": [
    {
     "name": "stdout",
     "output_type": "stream",
     "text": [
      "0.001649194434821387\n"
     ]
    }
   ],
   "source": [
    "epsilon_a = E_a/approx(.01)\n",
    "print(epsilon_a)"
   ]
  },
  {
   "cell_type": "markdown",
   "metadata": {
    "id": "cvt-RO-ccczc"
   },
   "source": [
    "\n",
    "\n",
    "---\n",
    "\n",
    "#Tolerance"
   ]
  },
  {
   "cell_type": "markdown",
   "metadata": {
    "id": "HvLqcOPIbCVY"
   },
   "source": [
    "Since we don't know the true answer, we can never say that we have reached it. What we can say is that the answer *isn't getting any better*.\n",
    "\n",
    "Programmatically, we say that the error / fractional error has crossed a *tolerance*.\n",
    "\n",
    "Define:\n",
    "\n",
    "The absolute tolerance, $Tol_a$, is the threshold past which the absolute error is *small enough*.\n",
    "\n",
    "The relative tolerance, $Tol_r$, is the threshold past which the relative error is *small enough*.\n"
   ]
  },
  {
   "cell_type": "markdown",
   "metadata": {
    "id": "0B4-vqMQcvV4"
   },
   "source": [
    "##Pseudo code concept"
   ]
  },
  {
   "cell_type": "markdown",
   "metadata": {
    "id": "NH9cqjWvc4wl"
   },
   "source": [
    "```\n",
    "Run an algorithm for a given parameter\n",
    "loop:\n",
    "  reduce parameter\n",
    "  run algorithm\n",
    "  Calculate error and relative error\n",
    "  Exit when tolerance is met\n",
    "```\n",
    "\n",
    "\n",
    "\n"
   ]
  },
  {
   "cell_type": "markdown",
   "metadata": {
    "id": "VGFcCdcZqv08"
   },
   "source": [
    "#Lets explore $E_a$ and $\\epsilon_a$ as a function of $\\Delta x$:"
   ]
  },
  {
   "cell_type": "code",
   "execution_count": 9,
   "metadata": {
    "id": "ydnylX8UeB3n"
   },
   "outputs": [
    {
     "data": {
      "image/png": "[encoded data removed]",
      "text/plain": [
       "<Figure size 640x480 with 1 Axes>"
      ]
     },
     "metadata": {},
     "output_type": "display_data"
    }
   ],
   "source": [
    "# prompt: Plot E_a and epsilon_a vs delta_x for decending values of delta_x to 1e-10 on a log-log with markers\n",
    "\n",
    "import matplotlib.pyplot as plt\n",
    "import numpy as np\n",
    "\n",
    "delta_x = np.logspace(0,-10,11)\n",
    "E_a = np.zeros(delta_x.size)\n",
    "epsilon_a = np.zeros(delta_x.size)\n",
    "\n",
    "for i, dx in enumerate(delta_x):\n",
    "  E_a[i] = approx(dx/10) - approx(dx)\n",
    "  epsilon_a[i] = E_a[i]/approx(dx/10)\n",
    "\n",
    "plt.loglog(delta_x, E_a, marker='o', label='$E_a$')\n",
    "plt.loglog(delta_x, epsilon_a, marker='s', label='$\\epsilon_a$')\n",
    "plt.xlabel('$\\Delta x$')\n",
    "plt.ylabel('Error')\n",
    "plt.legend()\n",
    "plt.show()\n"
   ]
  },
  {
   "cell_type": "markdown",
   "metadata": {
    "id": "CEnO4Fzvg77t"
   },
   "source": [
    "Note:\n",
    "\n",
    "\n",
    "*   The two errors overlap. Why?\n",
    "*   The plot is a straight line. What does this mean?\n",
    "*   There is a precipitous drop-off at $10^{-7}$. What is that?"
   ]
  },
  {
   "cell_type": "markdown",
   "metadata": {
    "id": "X8k50VLehixn"
   },
   "source": [
    "THESE QUESTIONS AND MORE IN THE NEXT EXCITING EPISODE OF NUMERICAL METHODS FOR ENGINEERING!"
   ]
  }
 ],
 "metadata": {
  "colab": {
   "collapsed_sections": [
    "EnTndpiTR2qc",
    "8Vsxg3YE3DBb",
    "tfbf3wcBah62",
    "0jqVDwQgd8-q",
    "eujIzIHVc9t2",
    "DYhYz_GpfxHe"
   ],
   "provenance": []
  },
  "kernelspec": {
   "display_name": "Python 3",
   "name": "python3"
  },
  "language_info": {
   "codemirror_mode": {
    "name": "ipython",
    "version": 3
   },
   "file_extension": ".py",
   "mimetype": "text/x-python",
   "name": "python",
   "nbconvert_exporter": "python",
   "pygments_lexer": "ipython3",
   "version": "3.11.9"
  }
 },
 "nbformat": 4,
 "nbformat_minor": 0
}